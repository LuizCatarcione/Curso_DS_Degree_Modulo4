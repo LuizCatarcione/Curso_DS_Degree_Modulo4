{
  "nbformat": 4,
  "nbformat_minor": 0,
  "metadata": {
    "colab": {
      "name": "exercicios modulo 3.ipynb",
      "provenance": [],
      "collapsed_sections": []
    },
    "kernelspec": {
      "name": "python3",
      "display_name": "Python 3"
    },
    "language_info": {
      "name": "python"
    }
  },
  "cells": [
    {
      "cell_type": "code",
      "metadata": {
        "colab": {
          "base_uri": "https://localhost:8080/"
        },
        "id": "tunTvgvLzV2R",
        "outputId": "61da4415-75d7-42a5-9b39-807c98f9c4d7"
      },
      "source": [
        "#numero1 = int(input(\"Digite o prmeiro numero\"))\n",
        "#numero2 = int(input(\"Digite o segundo numero\"))\n",
        "numero1 = int(input())\n",
        "numero2 = int(input())\n",
        "prod = numero1*numero2\n",
        "print(\"PROD =\",prod)\n"
      ],
      "execution_count": null,
      "outputs": [
        {
          "output_type": "stream",
          "name": "stdout",
          "text": [
            "3\n",
            "4\n",
            "PROD = 12\n"
          ]
        }
      ]
    },
    {
      "cell_type": "code",
      "metadata": {
        "colab": {
          "base_uri": "https://localhost:8080/"
        },
        "id": "9bQDmIXiw-eU",
        "outputId": "06687811-f030-4bfd-f16e-961d18869ad5"
      },
      "source": [
        "nome = str(input())\n",
        "salario = float(input())\n",
        "vendas = float(input())\n",
        "total = salario + 0.15*vendas\n",
        "print(f'TOTAL = R$ {total:.2f}')\n"
      ],
      "execution_count": null,
      "outputs": [
        {
          "output_type": "stream",
          "name": "stdout",
          "text": [
            "lz\n",
            "300\n",
            "500\n",
            "TOTAL = R$ 375.00\n"
          ]
        }
      ]
    },
    {
      "cell_type": "code",
      "metadata": {
        "colab": {
          "base_uri": "https://localhost:8080/",
          "height": 131
        },
        "id": "U2tz38uaDx-n",
        "outputId": "d92ac231-aaf3-445e-ef08-103d72507c73"
      },
      "source": [
        "a, b, c = int(x) for input('Digite todos os valores: ').split():b"
      ],
      "execution_count": 2,
      "outputs": [
        {
          "output_type": "error",
          "ename": "SyntaxError",
          "evalue": "ignored",
          "traceback": [
            "\u001b[0;36m  File \u001b[0;32m\"<ipython-input-2-f87fa39e306a>\"\u001b[0;36m, line \u001b[0;32m1\u001b[0m\n\u001b[0;31m    a, b, c = int(x) for input('Digite todos os valores: ').split():b\u001b[0m\n\u001b[0m                       ^\u001b[0m\n\u001b[0;31mSyntaxError\u001b[0m\u001b[0;31m:\u001b[0m invalid syntax\n"
          ]
        }
      ]
    },
    {
      "cell_type": "code",
      "metadata": {
        "colab": {
          "base_uri": "https://localhost:8080/",
          "height": 131
        },
        "id": "GdAAT1SYFXrU",
        "outputId": "f8ab991c-6905-4872-ba20-825fdece7e9a"
      },
      "source": [
        "valores = [int(x) in input('Digite todos os valores: ).split()]bb"
      ],
      "execution_count": null,
      "outputs": [
        {
          "output_type": "error",
          "ename": "SyntaxError",
          "evalue": "ignored",
          "traceback": [
            "\u001b[0;36m  File \u001b[0;32m\"<ipython-input-32-56fdcb3f6062>\"\u001b[0;36m, line \u001b[0;32m1\u001b[0m\n\u001b[0;31m    valores = [int(x) in input('Digite todos os valores: ).split()]b\u001b[0m\n\u001b[0m                                                                    ^\u001b[0m\n\u001b[0;31mSyntaxError\u001b[0m\u001b[0;31m:\u001b[0m EOL while scanning string literal\n"
          ]
        }
      ]
    },
    {
      "cell_type": "code",
      "metadata": {
        "colab": {
          "base_uri": "https://localhost:8080/"
        },
        "id": "eZVlmg2WOcfV",
        "outputId": "43003836-c855-46e5-88ce-8eead2c8e07b"
      },
      "source": [
        "n = 4\n",
        "candles = [4,5,4,4]\n",
        "maximo = int(max(candles))\n",
        "\n",
        "quantidade = 0\n",
        "def birthdayCakeCandles(candles):\n",
        "maximo = int(max(candles))  \n",
        "for elemento in candles:\n",
        "   if elemento == maximo:\n",
        "     quantidade += 1\n",
        "return quantidade\n",
        "print (quantidade)"
      ],
      "execution_count": null,
      "outputs": [
        {
          "output_type": "stream",
          "name": "stdout",
          "text": [
            "1\n"
          ]
        }
      ]
    },
    {
      "cell_type": "code",
      "metadata": {
        "colab": {
          "base_uri": "https://localhost:8080/"
        },
        "id": "Q9iFCsyQXX36",
        "outputId": "aeb49bd4-39e6-4fd3-a6ab-224faac1d78c"
      },
      "source": [
        "n = 3\n",
        "lista = []\n",
        "i = 1\n",
        "while i < n+1:\n",
        "  lista.append(\"#\")\n",
        "  print(lista)\n",
        "  i+=1"
      ],
      "execution_count": null,
      "outputs": [
        {
          "output_type": "stream",
          "name": "stdout",
          "text": [
            "['#']\n",
            "['#', '#']\n",
            "['#', '#', '#']\n"
          ]
        }
      ]
    },
    {
      "cell_type": "code",
      "metadata": {
        "id": "FT8VGq56bPw2"
      },
      "source": [
        "numero = 3\n",
        "def escada(numero):   \n",
        "    for num in range(1, numero+1):       \n",
        "        linha = \"\"       \n",
        "        for i in range(0, num):           \n",
        "            linha += str(num) + ' '       \n",
        "            print(linha)"
      ],
      "execution_count": null,
      "outputs": []
    },
    {
      "cell_type": "code",
      "metadata": {
        "colab": {
          "base_uri": "https://localhost:8080/"
        },
        "id": "gJXVXj1YJHUI",
        "outputId": "ace9fdbf-48bd-4dda-b51c-ef0ec5d9b359"
      },
      "source": [
        "n = 10\n",
        "def staircase(n):\n",
        "    for i in range(0,n):\n",
        "        for j in range(0,n):\n",
        "            if i + j >= n-1:\n",
        "                print(\"#\",end='') \n",
        "            else:\n",
        "                print(\" \",end='')\n",
        "        print(\"\\r\")\n",
        "staircase(n)\n"
      ],
      "execution_count": null,
      "outputs": [
        {
          "output_type": "stream",
          "name": "stdout",
          "text": [
            "         #\r\n",
            "        ##\r\n",
            "       ###\r\n",
            "      ####\r\n",
            "     #####\r\n",
            "    ######\r\n",
            "   #######\r\n",
            "  ########\r\n",
            " #########\r\n",
            "##########\r\n"
          ]
        }
      ]
    },
    {
      "cell_type": "code",
      "metadata": {
        "colab": {
          "base_uri": "https://localhost:8080/",
          "height": 35
        },
        "id": "oVhruaWVqFyr",
        "outputId": "80e240ee-9f39-4898-c552-92b75f890949"
      },
      "source": [
        " s = '07:01:00AM'\n",
        " def timeConversion(s):\n",
        "  if s[-2:] == \"AM\" and s[:2] == \"12\": \n",
        "    return \"00\" + s[2:-2] \n",
        "  elif s[-2:] == \"AM\": \n",
        "    return s[:-2]\n",
        "  elif s[-2:] == \"PM\" and s[:2] == \"12\": \n",
        "    return s[:-2] \n",
        "  else:\n",
        "    ans = int(s[:2]) + 12\n",
        "    return str(str(ans) + s[2:8]) \n",
        "#timeConversion(s)\n",
        "s[2:-2] + \":00\""
      ],
      "execution_count": null,
      "outputs": [
        {
          "output_type": "execute_result",
          "data": {
            "application/vnd.google.colaboratory.intrinsic+json": {
              "type": "string"
            },
            "text/plain": [
              "':01:00:00'"
            ]
          },
          "metadata": {},
          "execution_count": 46
        }
      ]
    },
    {
      "cell_type": "code",
      "metadata": {
        "colab": {
          "base_uri": "https://localhost:8080/"
        },
        "id": "ZQnz8DAzNVpe",
        "outputId": "cfd76c35-4220-4c7f-8594-4d704161de99"
      },
      "source": [
        "n = 5.4444\n",
        "round(n,2)\n"
      ],
      "execution_count": null,
      "outputs": [
        {
          "output_type": "execute_result",
          "data": {
            "text/plain": [
              "5.44"
            ]
          },
          "metadata": {},
          "execution_count": 3
        }
      ]
    },
    {
      "cell_type": "code",
      "source": [
        "def pesquisa_binaria(lista, item):\n",
        "  baixo = 0 \n",
        "  alto = len(lista) - 1 \n",
        "  while baixo <= alto: \n",
        "    meio = (baixo + alto) // 2 \n",
        "    chute = lista[meio]\n",
        "    if chute == item: \n",
        "      return meio\n",
        "    if chute > item: \n",
        "      alto = meio - 1\n",
        "    else: \n",
        "      baixo = meio + 1\n",
        "  return None \n",
        "minha_lista = [1, 5, 6, 7, 3] \n",
        "minha_lista = sorted(minha_lista)\n",
        "print (pesquisa_binaria(minha_lista, 3)) # => 1 \n",
        "print (pesquisa_binaria(minha_lista, -1)) # => None"
      ],
      "metadata": {
        "colab": {
          "base_uri": "https://localhost:8080/"
        },
        "id": "972YQXQGIb8C",
        "outputId": "97e4fc9f-a10f-4c07-8973-df2162389d32"
      },
      "execution_count": null,
      "outputs": [
        {
          "output_type": "stream",
          "name": "stdout",
          "text": [
            "1\n",
            "None\n"
          ]
        }
      ]
    },
    {
      "cell_type": "code",
      "source": [
        "\n"
      ],
      "metadata": {
        "id": "fvnzGnih-Q_N"
      },
      "execution_count": null,
      "outputs": []
    }
  ]
}