{
  "nbformat": 4,
  "nbformat_minor": 5,
  "metadata": {
    "kernelspec": {
      "display_name": "Python 3",
      "language": "python",
      "name": "python3"
    },
    "language_info": {
      "codemirror_mode": {
        "name": "ipython",
        "version": 3
      },
      "file_extension": ".py",
      "mimetype": "text/x-python",
      "name": "python",
      "nbconvert_exporter": "python",
      "pygments_lexer": "ipython3",
      "version": "3.8.7"
    },
    "colab": {
      "name": "Cópia de exercicios_aula1_alunos.ipynb",
      "provenance": [],
      "collapsed_sections": []
    }
  },
  "cells": [
    {
      "cell_type": "markdown",
      "metadata": {
        "id": "otherwise-example"
      },
      "source": [
        "# Exercícios"
      ],
      "id": "otherwise-example"
    },
    {
      "cell_type": "markdown",
      "metadata": {
        "id": "addressed-montana"
      },
      "source": [
        "1. Crie uma classe Bola cujos atributos são cor e raio. Crie um método que imprime a cor da bola. Crie um método para calcular a área dessa bola. Crie um método para calcular o volume da bola. Crie um objeto dessa classe e calcule a área e o volume, imprimindo ambos em seguida. \n",
        "    Obs.:\n",
        "\n",
        "    Área da esfera = 4*3.14*r*r;\n",
        "\n",
        "    Volume da esfera = 4*3.14*r*r*r/3"
      ],
      "id": "addressed-montana"
    },
    {
      "cell_type": "code",
      "metadata": {
        "id": "u2aIJ2X6i3H0",
        "colab": {
          "base_uri": "https://localhost:8080/"
        },
        "outputId": "68bfdeca-ba85-41fe-819e-db06de211be0"
      },
      "source": [
        "class Bola:\n",
        "    def __init__(self, raio, cor):\n",
        "  \n",
        "      '''\n",
        "      cria uma representação da entidade Bola\n",
        "\n",
        "      Parametros\n",
        "        ----------\n",
        "      raio : float\n",
        "        Medida do raio da bola \n",
        "      cor  : str\n",
        "        Cor da bola \n",
        "\n",
        "      '''\n",
        "# criando os meus atributos\n",
        "      self.raio = raio\n",
        "      self.cor = cor\n",
        "\n",
        "\n",
        "    def calcular_area(self):\n",
        "      '''\n",
        "      Criando o calculo da área\n",
        "      Parâmetros\n",
        "      ----------\n",
        "      raio : float\n",
        "         raio da bola\n",
        "      Retorno\n",
        "      ---------- \n",
        "      self.area : float\n",
        "        retorna a área da bola  \n",
        "      '''\n",
        "      self.area = 4*3.14*self.raio**2\n",
        "      return self.area\n",
        "\n",
        "    def calcular_volume(self):\n",
        "\n",
        "      '''\n",
        "      Criando o calculo da área\n",
        "      Parâmetros\n",
        "      ----------\n",
        "      raio : float\n",
        "        raio da bola\n",
        "      Retorno\n",
        "      ---------- \n",
        "      self.volume : float\n",
        "        retorna o volume da bola\n",
        "      '''    \n",
        "      self.volume = (4*3.14*self.raio**3)/3\n",
        "      return self.volume\n",
        "bola1 = Bola(raio = 10.0, cor = \"amarelo\")\n",
        "bola1.calcular_area()\n",
        "print(f\"a área da bola é :{bola1.calcular_area():.2f}\")\n",
        "print(f\"O volume da bola é:{bola1.calcular_volume():.2f}\")\n"
      ],
      "id": "u2aIJ2X6i3H0",
      "execution_count": 8,
      "outputs": [
        {
          "output_type": "stream",
          "name": "stdout",
          "text": [
            "a área da bola é :1256.00\n",
            "O volume da bola é:4186.67\n"
          ]
        }
      ]
    },
    {
      "cell_type": "markdown",
      "metadata": {
        "id": "waiting-morocco"
      },
      "source": [
        "---"
      ],
      "id": "waiting-morocco"
    },
    {
      "cell_type": "markdown",
      "metadata": {
        "id": "cognitive-ministry"
      },
      "source": [
        "2. Crie uma classe Retângulo cujos atributos são lado_a e lado_b. Crie um método para calcular a área desse retângulo. Crie um objeto dessa classe e calcule a área e a imprima em seguida."
      ],
      "id": "cognitive-ministry"
    },
    {
      "cell_type": "code",
      "metadata": {
        "colab": {
          "base_uri": "https://localhost:8080/"
        },
        "id": "LEZbbhMMV3w2",
        "outputId": "5c3501d3-38bb-4e2d-84e0-b203867ce6c6"
      },
      "source": [
        "class Retangulo:\n",
        "    def __init__(self, lado_a, lado_b):\n",
        "  \n",
        "      '''\n",
        "      cria uma representação da entidade Retângulo\n",
        "\n",
        "      Parametros\n",
        "        ----------\n",
        "      lado_a : float\n",
        "        Medida do lado \"a\" do retângulo \n",
        "      cor  : float\n",
        "        Medida do lado \"b\" do retângulo\n",
        "\n",
        "      '''\n",
        "# criando os meus atributos\n",
        "      self.lado_a = lado_a\n",
        "      self.lado_b = lado_b\n",
        "\n",
        "    def calcular_area(self):\n",
        "      '''\n",
        "      Criando o calculo da área\n",
        "      Parâmetros\n",
        "      ----------\n",
        "      lado_a : float\n",
        "        Lado a do retângulo\n",
        "      lado_b : float\n",
        "        Lado b do retângulo   \n",
        "      Retorno\n",
        "      ---------- \n",
        "      self.area : float\n",
        "        retorna a área do retângulo  \n",
        "      '''\n",
        "      self.area = self.lado_a*self.lado_b\n",
        "      return self.area\n",
        "\n",
        "    \n",
        "retangulo1 = Retangulo(lado_a = 10.0, lado_b = 4)\n",
        "#retangulo1.calcular_area()\n",
        "print(f\"a área do Retângulo é :{retangulo1.calcular_area():.2f}\")\n"
      ],
      "id": "LEZbbhMMV3w2",
      "execution_count": 7,
      "outputs": [
        {
          "output_type": "stream",
          "name": "stdout",
          "text": [
            "a área do Retângulo é :40.00\n"
          ]
        }
      ]
    },
    {
      "cell_type": "markdown",
      "metadata": {
        "id": "united-report"
      },
      "source": [
        "---"
      ],
      "id": "united-report"
    },
    {
      "cell_type": "markdown",
      "metadata": {
        "id": "hindu-saturday"
      },
      "source": [
        "3. Crie uma classe Funcionario cujos atributos são nome e e-mail. Guarde as horas trabalhadas em um dicionário cujas chaves são o mês em questão e, em outro dicionário, guarde o salário por hora relativo ao mês em questão. Crie um método que retorna o salário mensal do funcionário."
      ],
      "id": "hindu-saturday"
    },
    {
      "cell_type": "markdown",
      "metadata": {
        "id": "understanding-impact"
      },
      "source": [
        "---"
      ],
      "id": "understanding-impact"
    },
    {
      "cell_type": "markdown",
      "metadata": {
        "id": "parental-montana"
      },
      "source": [
        "4. Crie uma classe Televisor cujos atributos são:\n",
        "\n",
        "    a. fabricante;\n",
        "\n",
        "    b. modelo;\n",
        "\n",
        "    c. canal atual;\n",
        "\n",
        "    d. lista de canais; e\n",
        "\n",
        "    e. volume.\n",
        "\n",
        "    Faça métodos para aumentar/diminuir volume, trocar o canal e sintonizar um novo canal, que adiciona um novo canal à lista de canais (somente se esse canal não estiver nessa lista). No atributo lista de canais, devem estar armazenados todos os canais já sintonizados dessa TV.\n",
        "\n",
        "    Obs.: O volume não pode ser menor que zero e maior que cem; só se pode trocar para um canal que já esteja na lista de canais."
      ],
      "id": "parental-montana"
    },
    {
      "cell_type": "markdown",
      "metadata": {
        "id": "empirical-childhood"
      },
      "source": [
        "---"
      ],
      "id": "empirical-childhood"
    },
    {
      "cell_type": "markdown",
      "metadata": {
        "id": "published-criterion"
      },
      "source": [
        "5. Crie uma classe ControleRemoto cujo atributo é televisão (isso é, recebe um objeto da classe do exercício 4). Crie métodos para aumentar/diminuir volume, trocar o canal e sintonizar um novo canal, que adiciona um novo canal à lista de canais (somente se esse canal não estiver nessa lista)."
      ],
      "id": "published-criterion"
    },
    {
      "cell_type": "markdown",
      "metadata": {
        "id": "above-individual"
      },
      "source": [
        "---"
      ],
      "id": "above-individual"
    },
    {
      "cell_type": "markdown",
      "metadata": {
        "id": "affected-monster"
      },
      "source": [
        "6. O módulo time possui a função time.sleep(x), que faz seu programa “dormir” por x segundos. Utilizando essa função, crie uma classe Cronômetro e faça um programa que cronometre o tempo."
      ],
      "id": "affected-monster"
    },
    {
      "cell_type": "markdown",
      "metadata": {
        "id": "jewish-viking"
      },
      "source": [
        "---"
      ],
      "id": "jewish-viking"
    },
    {
      "cell_type": "markdown",
      "metadata": {
        "id": "nasty-player"
      },
      "source": [
        "7. Crie uma modelagem de classes para uma agenda capaz de armazenar contatos. Através dessa agenda é possível incluir, remover, buscar e listar contatos já cadastrados."
      ],
      "id": "nasty-player"
    }
  ]
}