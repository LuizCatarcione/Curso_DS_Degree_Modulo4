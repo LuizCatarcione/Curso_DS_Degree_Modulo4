{
  "nbformat": 4,
  "nbformat_minor": 5,
  "metadata": {
    "kernelspec": {
      "display_name": "Python 3",
      "language": "python",
      "name": "python3"
    },
    "language_info": {
      "codemirror_mode": {
        "name": "ipython",
        "version": 3
      },
      "file_extension": ".py",
      "mimetype": "text/x-python",
      "name": "python",
      "nbconvert_exporter": "python",
      "pygments_lexer": "ipython3",
      "version": "3.8.7"
    },
    "colab": {
      "name": "Cópia de exercicios_aula1_alunos.ipynb",
      "provenance": [],
      "collapsed_sections": []
    }
  },
  "cells": [
    {
      "cell_type": "markdown",
      "metadata": {
        "id": "otherwise-example"
      },
      "source": [
        "# Exercícios"
      ],
      "id": "otherwise-example"
    },
    {
      "cell_type": "markdown",
      "metadata": {
        "id": "addressed-montana"
      },
      "source": [
        "1. Crie uma classe Bola cujos atributos são cor e raio. Crie um método que imprime a cor da bola. Crie um método para calcular a área dessa bola. Crie um método para calcular o volume da bola. Crie um objeto dessa classe e calcule a área e o volume, imprimindo ambos em seguida. \n",
        "    Obs.:\n",
        "\n",
        "    Área da esfera = 4*3.14*r*r;\n",
        "\n",
        "    Volume da esfera = 4*3.14*r*r*r/3"
      ],
      "id": "addressed-montana"
    },
    {
      "cell_type": "markdown",
      "metadata": {
        "id": "waiting-morocco"
      },
      "source": [
        "---"
      ],
      "id": "waiting-morocco"
    },
    {
      "cell_type": "markdown",
      "metadata": {
        "id": "cognitive-ministry"
      },
      "source": [
        "2. Crie uma classe Retângulo cujos atributos são lado_a e lado_b. Crie um método para calcular a área desse retângulo. Crie um objeto dessa classe e calcule a área e a imprima em seguida."
      ],
      "id": "cognitive-ministry"
    },
    {
      "cell_type": "markdown",
      "metadata": {
        "id": "united-report"
      },
      "source": [
        "---"
      ],
      "id": "united-report"
    },
    {
      "cell_type": "markdown",
      "metadata": {
        "id": "hindu-saturday"
      },
      "source": [
        "3. Crie uma classe Funcionario cujos atributos são nome e e-mail. Guarde as horas trabalhadas em um dicionário cujas chaves são o mês em questão e, em outro dicionário, guarde o salário por hora relativo ao mês em questão. Crie um método que retorna o salário mensal do funcionário."
      ],
      "id": "hindu-saturday"
    },
    {
      "cell_type": "markdown",
      "metadata": {
        "id": "understanding-impact"
      },
      "source": [
        "---"
      ],
      "id": "understanding-impact"
    },
    {
      "cell_type": "markdown",
      "metadata": {
        "id": "parental-montana"
      },
      "source": [
        "4. Crie uma classe Televisor cujos atributos são:\n",
        "\n",
        "    a. fabricante;\n",
        "\n",
        "    b. modelo;\n",
        "\n",
        "    c. canal atual;\n",
        "\n",
        "    d. lista de canais; e\n",
        "\n",
        "    e. volume.\n",
        "\n",
        "    Faça métodos para aumentar/diminuir volume, trocar o canal e sintonizar um novo canal, que adiciona um novo canal à lista de canais (somente se esse canal não estiver nessa lista). No atributo lista de canais, devem estar armazenados todos os canais já sintonizados dessa TV.\n",
        "\n",
        "    Obs.: O volume não pode ser menor que zero e maior que cem; só se pode trocar para um canal que já esteja na lista de canais."
      ],
      "id": "parental-montana"
    },
    {
      "cell_type": "markdown",
      "metadata": {
        "id": "4f7XG7JmFtEY"
      },
      "source": [
        ""
      ],
      "id": "4f7XG7JmFtEY"
    },
    {
      "cell_type": "code",
      "metadata": {
        "id": "3yuOgig95sYZ"
      },
      "source": [
        "class Televisor:\n",
        "    '''\n",
        "    Esta classe possui dois atributos: fabricante e modelo.\n",
        "    Ela possui métodos para aumentar/diminuir volume, trocar o canal e sintonizar um novo canal.\n",
        "    '''\n",
        "    def __init__(self, fabricante, modelo, canal_atual, lista_canais=[], volume=1):\n",
        "        \n",
        "        '''\n",
        "        Construtor\n",
        "        Parâmetros\n",
        "        - - - - - -\n",
        "        fabricante = str\n",
        "            Fabricante associado ao televisor.\n",
        "        modelo = str\n",
        "            Modelo associado ao televisor.\n",
        "        canal_atual = int\n",
        "            Canal atual do televisor.\n",
        "        lista_canais = list / int\n",
        "            Lista de canais do televisor.\n",
        "        volume = int\n",
        "            Volume atual do televisor.\n",
        "        '''\n",
        "        \n",
        "        #criando os atributos do televisor:\n",
        "        self.fabricante = fabricante\n",
        "        self.modelo = modelo\n",
        "        self.canal_atual = canal_atual\n",
        "        self.lista_canais = lista_canais\n",
        "        self.volume = volume\n",
        "    \n",
        "    # método para aumento do volume: só haverá aumento se o novo volume for \n",
        "    # superior ao volume atual e até o valor máximo de 100 \n",
        "    # e mostra o canal após ação de aumento de volume\n",
        "    def aumentar_volume(self, novo_volume):\n",
        "        if novo_volume > 101:\n",
        "            self.volume = 100\n",
        "            print(\"O volume foi limitado em seu valor máximo de:\",self.volume)\n",
        "\n",
        "        else:\n",
        "            if novo_volume > self.volume:\n",
        "              self.volume = novo_volume\n",
        "              print(\"O volume foi aumentado para:\",self.volume)\n",
        "            else:\n",
        "              self.volume = self.volume\n",
        "              print(\"O volume foi mantido em:\",self.volume)\n",
        "    # mostra o método para diminuir do volume: só haverá diminuição se o novo  \n",
        "    # volume for inferior ao volume atual e até o valor minimo de 0 \n",
        "    # e mostra o canal após ação da diminuição de volume\n",
        "\n",
        "    def diminuir_volume(self, novo_volume):\n",
        "        if novo_volume < 0:\n",
        "            self.volume = 0\n",
        "            print(\"O volume foi limitado em seu valor minimo de:\",self.volume)\n",
        "        else:\n",
        "            if novo_volume < self.volume:\n",
        "              self.volume = novo_volume\n",
        "              print(\"O volume foi diminuido para:\",self.volume)\n",
        "            else:\n",
        "              self.volume = self.volume\n",
        "              print(\"O volume foi mantido em:\",self.volume)       \n",
        " \n",
        "    def trocar_canal(self,canal):\n",
        "    # método para trocar um canal. Caso canal digitado não existir, informar que\n",
        "    # canal , não existe, caso contrário apresentar o novo canal \n",
        "        if canal in self.lista_canais and canal!=self.canal_atual:\n",
        "           self.canal_atual = canal\n",
        "           print(\"Foi mudado para o canal:\",canal) \n",
        "        else:\n",
        "          if canal == self.canal_atual:\n",
        "            print(\" Você já está no Canal\", canal)\n",
        "          else:\n",
        "            print(\"o Canal\", canal,\"não existe\")\n",
        "        return self.canal_atual\n",
        "\n",
        "    def sintonizar_canal (self, canal):\n",
        "        if canal not in self.lista_canais:\n",
        "           self.lista_canais.append(canal)\n",
        "           self.canal_atual = canal\n",
        "           print(\"Foi acrescentado um novo canal:\",canal)\n",
        "           print(\"A nova lista é:\", self.lista_canais)\n",
        "        else:\n",
        "           print(\" O Canal\", canal, \"já existe!\")\n",
        "        #return self.lista_canais"
      ],
      "id": "3yuOgig95sYZ",
      "execution_count": 8,
      "outputs": []
    },
    {
      "cell_type": "code",
      "metadata": {
        "colab": {
          "base_uri": "https://localhost:8080/"
        },
        "id": "tNEXt2Bf-ydl",
        "outputId": "064df24c-6b3a-44c9-bf8f-cadad574ee0e"
      },
      "source": [
        "fabricante1 = Televisor(\n",
        "            fabricante=\"eu\",\n",
        "            modelo = \"123\",\n",
        "            canal_atual = 1,\n",
        "            lista_canais = [1,2,3],\n",
        "            volume = 30)\n",
        "#fabricante1.aumentar_volume(20)\n",
        "#fabricante1.diminuir_volume(99)\n",
        "#fabricante1.sintonizar_canal(7)\n",
        "#fabricante1.sintonizar_canal(8)\n",
        "#fabricante1.sintonizar_canal(1)\n",
        "fabricante1.trocar_canal(2)\n",
        "\n",
        "\n"
      ],
      "id": "tNEXt2Bf-ydl",
      "execution_count": 11,
      "outputs": [
        {
          "output_type": "stream",
          "name": "stdout",
          "text": [
            "Foi mudado para o canal: 2\n"
          ]
        },
        {
          "output_type": "execute_result",
          "data": {
            "text/plain": [
              "2"
            ]
          },
          "metadata": {},
          "execution_count": 11
        }
      ]
    },
    {
      "cell_type": "markdown",
      "metadata": {
        "id": "empirical-childhood"
      },
      "source": [
        "---"
      ],
      "id": "empirical-childhood"
    },
    {
      "cell_type": "markdown",
      "metadata": {
        "id": "published-criterion"
      },
      "source": [
        "5. Crie uma classe ControleRemoto cujo atributo é televisão (isso é, recebe um objeto da classe do exercício 4). Crie métodos para aumentar/diminuir volume, trocar o canal e sintonizar um novo canal, que adiciona um novo canal à lista de canais (somente se esse canal não estiver nessa lista)."
      ],
      "id": "published-criterion"
    },
    {
      "cell_type": "markdown",
      "metadata": {
        "id": "above-individual"
      },
      "source": [
        "---"
      ],
      "id": "above-individual"
    },
    {
      "cell_type": "markdown",
      "metadata": {
        "id": "affected-monster"
      },
      "source": [
        "6. O módulo time possui a função time.sleep(x), que faz seu programa “dormir” por x segundos. Utilizando essa função, crie uma classe Cronômetro e faça um programa que cronometre o tempo."
      ],
      "id": "affected-monster"
    },
    {
      "cell_type": "markdown",
      "metadata": {
        "id": "jewish-viking"
      },
      "source": [
        "---"
      ],
      "id": "jewish-viking"
    },
    {
      "cell_type": "markdown",
      "metadata": {
        "id": "nasty-player"
      },
      "source": [
        "7. Crie uma modelagem de classes para uma agenda capaz de armazenar contatos. Através dessa agenda é possível incluir, remover, buscar e listar contatos já cadastrados."
      ],
      "id": "nasty-player"
    }
  ]
}