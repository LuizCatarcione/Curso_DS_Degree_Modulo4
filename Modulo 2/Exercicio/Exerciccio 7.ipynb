{
  "nbformat": 4,
  "nbformat_minor": 5,
  "metadata": {
    "kernelspec": {
      "display_name": "Python 3",
      "language": "python",
      "name": "python3"
    },
    "language_info": {
      "codemirror_mode": {
        "name": "ipython",
        "version": 3
      },
      "file_extension": ".py",
      "mimetype": "text/x-python",
      "name": "python",
      "nbconvert_exporter": "python",
      "pygments_lexer": "ipython3",
      "version": "3.8.7"
    },
    "colab": {
      "name": "Cópia de exercicios_aula1_alunos.ipynb",
      "provenance": []
    }
  },
  "cells": [
    {
      "cell_type": "markdown",
      "metadata": {
        "id": "otherwise-example"
      },
      "source": [
        "# Exercícios"
      ],
      "id": "otherwise-example"
    },
    {
      "cell_type": "markdown",
      "metadata": {
        "id": "addressed-montana"
      },
      "source": [
        "1. Crie uma classe Bola cujos atributos são cor e raio. Crie um método que imprime a cor da bola. Crie um método para calcular a área dessa bola. Crie um método para calcular o volume da bola. Crie um objeto dessa classe e calcule a área e o volume, imprimindo ambos em seguida. \n",
        "    Obs.:\n",
        "\n",
        "    Área da esfera = 4*3.14*r*r;\n",
        "\n",
        "    Volume da esfera = 4*3.14*r*r*r/3"
      ],
      "id": "addressed-montana"
    },
    {
      "cell_type": "markdown",
      "metadata": {
        "id": "waiting-morocco"
      },
      "source": [
        "---"
      ],
      "id": "waiting-morocco"
    },
    {
      "cell_type": "markdown",
      "metadata": {
        "id": "cognitive-ministry"
      },
      "source": [
        "2. Crie uma classe Retângulo cujos atributos são lado_a e lado_b. Crie um método para calcular a área desse retângulo. Crie um objeto dessa classe e calcule a área e a imprima em seguida."
      ],
      "id": "cognitive-ministry"
    },
    {
      "cell_type": "markdown",
      "metadata": {
        "id": "united-report"
      },
      "source": [
        "---"
      ],
      "id": "united-report"
    },
    {
      "cell_type": "markdown",
      "metadata": {
        "id": "hindu-saturday"
      },
      "source": [
        "3. Crie uma classe Funcionario cujos atributos são nome e e-mail. Guarde as horas trabalhadas em um dicionário cujas chaves são o mês em questão e, em outro dicionário, guarde o salário por hora relativo ao mês em questão. Crie um método que retorna o salário mensal do funcionário."
      ],
      "id": "hindu-saturday"
    },
    {
      "cell_type": "markdown",
      "metadata": {
        "id": "understanding-impact"
      },
      "source": [
        "---"
      ],
      "id": "understanding-impact"
    },
    {
      "cell_type": "markdown",
      "metadata": {
        "id": "parental-montana"
      },
      "source": [
        "4. Crie uma classe Televisor cujos atributos são:\n",
        "\n",
        "    a. fabricante;\n",
        "\n",
        "    b. modelo;\n",
        "\n",
        "    c. canal atual;\n",
        "\n",
        "    d. lista de canais; e\n",
        "\n",
        "    e. volume.\n",
        "\n",
        "    Faça métodos para aumentar/diminuir volume, trocar o canal e sintonizar um novo canal, que adiciona um novo canal à lista de canais (somente se esse canal não estiver nessa lista). No atributo lista de canais, devem estar armazenados todos os canais já sintonizados dessa TV.\n",
        "\n",
        "    Obs.: O volume não pode ser menor que zero e maior que cem; só se pode trocar para um canal que já esteja na lista de canais."
      ],
      "id": "parental-montana"
    },
    {
      "cell_type": "markdown",
      "metadata": {
        "id": "empirical-childhood"
      },
      "source": [
        "---"
      ],
      "id": "empirical-childhood"
    },
    {
      "cell_type": "markdown",
      "metadata": {
        "id": "published-criterion"
      },
      "source": [
        "5. Crie uma classe ControleRemoto cujo atributo é televisão (isso é, recebe um objeto da classe do exercício 4). Crie métodos para aumentar/diminuir volume, trocar o canal e sintonizar um novo canal, que adiciona um novo canal à lista de canais (somente se esse canal não estiver nessa lista)."
      ],
      "id": "published-criterion"
    },
    {
      "cell_type": "markdown",
      "metadata": {
        "id": "above-individual"
      },
      "source": [
        "---"
      ],
      "id": "above-individual"
    },
    {
      "cell_type": "markdown",
      "metadata": {
        "id": "affected-monster"
      },
      "source": [
        "6. O módulo time possui a função time.sleep(x), que faz seu programa “dormir” por x segundos. Utilizando essa função, crie uma classe Cronômetro e faça um programa que cronometre o tempo."
      ],
      "id": "affected-monster"
    },
    {
      "cell_type": "markdown",
      "metadata": {
        "id": "jewish-viking"
      },
      "source": [
        "---"
      ],
      "id": "jewish-viking"
    },
    {
      "cell_type": "markdown",
      "metadata": {
        "id": "nasty-player"
      },
      "source": [
        "7. Crie uma modelagem de classes para uma agenda capaz de armazenar contatos. Através dessa agenda é possível incluir, remover, buscar e listar contatos já cadastrados."
      ],
      "id": "nasty-player"
    },
    {
      "cell_type": "code",
      "metadata": {
        "id": "ucLcwq88Kgh1"
      },
      "source": [
        "class Agenda:\n",
        "    def __init__(self, nome, telefone):\n",
        "        # argumentos\n",
        "        self.nome = nome\n",
        "        self.telefone = telefone\n",
        "        self.lista_amigos = [] \n",
        "        self.lista_telefone = []     \n",
        "       \n",
        "    def adicionar_amigo(self, amigo):\n",
        "        if(amigo not in self.lista_amigos):\n",
        "            self.lista_amigos.append(amigo)\n",
        "           # self.lista_telefone.append(telefone)\n",
        "            return print(\" O amigo é:\", amigo.nome)\n",
        "       # return False\n",
        "    def remover_amigo(self, amigo):\n",
        "        if(amigo in self.lista_amigos):\n",
        "            self.lista_amigos.remove(amigo)\n",
        "            return True\n",
        "        return False\n",
        "    def buscar_amigo(self,amigo):\n",
        "        if(amigo in self.lista_amigos):\n",
        "          print(\"Você possui este amigo em sua agenda\")\n",
        "          print(\"O telefone dele é:\", amigo.telefone)\n",
        "          return True\n",
        "        else:\n",
        "          return False\n",
        "    def listar_contatos(self):\n",
        "        for amigo in self.lista_amigos:\n",
        "          print(amigo.nome)\n",
        "          print(amigo.telefone)\n",
        "    \n",
        "    #def printar_nome_amigos(self):\n",
        "    #    for amigo in self.lista_amigos:\n",
        "    #        print(amigo.nome)\n",
        "    #        print(amigo.telefone)"
      ],
      "id": "ucLcwq88Kgh1",
      "execution_count": null,
      "outputs": []
    },
    {
      "cell_type": "code",
      "metadata": {
        "id": "MDoRxf0HL1K0",
        "colab": {
          "base_uri": "https://localhost:8080/"
        },
        "outputId": "11beaf3f-1473-47a3-df43-86195bc91eb5"
      },
      "source": [
        "Agenda_Luiz = Agenda(nome = \"Luiz\", telefone = 123456789)\n",
        "joao = Agenda(nome = \"João\", telefone = 23456789)\n",
        "maria = Agenda(nome = \"Maria\", telefone = 11111)\n",
        "joaquina = Agenda(nome= \"Joaquina\", telefone = 456789)\n",
        "Agenda_Luiz.adicionar_amigo(joaquina)\n",
        "Agenda_Luiz.adicionar_amigo(maria)\n",
        "#Agenda_Luiz.remover_amigo(maria)\n",
        "#Agenda_Luiz.printar_nome_amigos()\n",
        "Agenda_Luiz.buscar_amigo(Joaquina)\n",
        "#Agenda_Luiz.printar_nome_amigos()\n",
        "Agenda_Luiz.listar_contatos()"
      ],
      "id": "MDoRxf0HL1K0",
      "execution_count": null,
      "outputs": [
        {
          "output_type": "stream",
          "name": "stdout",
          "text": [
            " O amigo é: Joaquina\n",
            " O amigo é: Maria\n",
            "Joaquina\n",
            "456789\n",
            "Maria\n",
            "11111\n"
          ]
        }
      ]
    }
  ]
}