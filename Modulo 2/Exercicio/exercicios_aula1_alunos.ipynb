{
  "nbformat": 4,
  "nbformat_minor": 5,
  "metadata": {
    "kernelspec": {
      "display_name": "Python 3",
      "language": "python",
      "name": "python3"
    },
    "language_info": {
      "codemirror_mode": {
        "name": "ipython",
        "version": 3
      },
      "file_extension": ".py",
      "mimetype": "text/x-python",
      "name": "python",
      "nbconvert_exporter": "python",
      "pygments_lexer": "ipython3",
      "version": "3.8.7"
    },
    "colab": {
      "name": "exercicios_aula1_alunos.ipynb",
      "provenance": []
    }
  },
  "cells": [
    {
      "cell_type": "markdown",
      "metadata": {
        "id": "otherwise-example"
      },
      "source": [
        "# Exercícios"
      ],
      "id": "otherwise-example"
    },
    {
      "cell_type": "markdown",
      "metadata": {
        "id": "addressed-montana"
      },
      "source": [
        "1. Crie uma classe Bola cujos atributos são cor e raio. Crie um método que imprime a cor da bola. Crie um método para calcular a área dessa bola. Crie um método para calcular o volume da bola. Crie um objeto dessa classe e calcule a área e o volume, imprimindo ambos em seguida. \n",
        "    Obs.:\n",
        "\n",
        "    Área da esfera = 4*3.14*r*r;\n",
        "\n",
        "    Volume da esfera = 4*3.14*r*r*r/3"
      ],
      "id": "addressed-montana"
    },
    {
      "cell_type": "markdown",
      "metadata": {
        "id": "waiting-morocco"
      },
      "source": [
        "---"
      ],
      "id": "waiting-morocco"
    },
    {
      "cell_type": "markdown",
      "metadata": {
        "id": "cognitive-ministry"
      },
      "source": [
        "2. Crie uma classe Retângulo cujos atributos são lado_a e lado_b. Crie um método para calcular a área desse retângulo. Crie um objeto dessa classe e calcule a área e a imprima em seguida."
      ],
      "id": "cognitive-ministry"
    },
    {
      "cell_type": "markdown",
      "metadata": {
        "id": "united-report"
      },
      "source": [
        "---"
      ],
      "id": "united-report"
    },
    {
      "cell_type": "markdown",
      "metadata": {
        "id": "hindu-saturday"
      },
      "source": [
        "3. Crie uma classe Funcionario cujos atributos são nome e e-mail. Guarde as horas trabalhadas em um dicionário cujas chaves são o mês em questão e, em outro dicionário, guarde o salário por hora relativo ao mês em questão. Crie um método que retorna o salário mensal do funcionário."
      ],
      "id": "hindu-saturday"
    },
    {
      "cell_type": "markdown",
      "metadata": {
        "id": "understanding-impact"
      },
      "source": [
        "---"
      ],
      "id": "understanding-impact"
    },
    {
      "cell_type": "markdown",
      "metadata": {
        "id": "parental-montana"
      },
      "source": [
        "4. Crie uma classe Televisor cujos atributos são:\n",
        "\n",
        "    a. fabricante;\n",
        "\n",
        "    b. modelo;\n",
        "\n",
        "    c. canal atual;\n",
        "\n",
        "    d. lista de canais; e\n",
        "\n",
        "    e. volume.\n",
        "\n",
        "    Faça métodos para aumentar/diminuir volume, trocar o canal e sintonizar um novo canal, que adiciona um novo canal à lista de canais (somente se esse canal não estiver nessa lista). No atributo lista de canais, devem estar armazenados todos os canais já sintonizados dessa TV.\n",
        "\n",
        "    Obs.: O volume não pode ser menor que zero e maior que cem; só se pode trocar para um canal que já esteja na lista de canais."
      ],
      "id": "parental-montana"
    },
    {
      "cell_type": "markdown",
      "metadata": {
        "id": "empirical-childhood"
      },
      "source": [
        "---"
      ],
      "id": "empirical-childhood"
    },
    {
      "cell_type": "markdown",
      "metadata": {
        "id": "published-criterion"
      },
      "source": [
        "5. Crie uma classe ControleRemoto cujo atributo é televisão (isso é, recebe um objeto da classe do exercício 4). Crie métodos para aumentar/diminuir volume, trocar o canal e sintonizar um novo canal, que adiciona um novo canal à lista de canais (somente se esse canal não estiver nessa lista)."
      ],
      "id": "published-criterion"
    },
    {
      "cell_type": "markdown",
      "metadata": {
        "id": "above-individual"
      },
      "source": [
        "---"
      ],
      "id": "above-individual"
    },
    {
      "cell_type": "markdown",
      "metadata": {
        "id": "affected-monster"
      },
      "source": [
        "6. O módulo time possui a função time.sleep(x), que faz seu programa “dormir” por x segundos. Utilizando essa função, crie uma classe Cronômetro e faça um programa que cronometre o tempo."
      ],
      "id": "affected-monster"
    },
    {
      "cell_type": "markdown",
      "metadata": {
        "id": "jewish-viking"
      },
      "source": [
        "---"
      ],
      "id": "jewish-viking"
    },
    {
      "cell_type": "markdown",
      "metadata": {
        "id": "nasty-player"
      },
      "source": [
        "7. Crie uma modelagem de classes para uma agenda capaz de armazenar contatos. Através dessa agenda é possível incluir, remover, buscar e listar contatos já cadastrados."
      ],
      "id": "nasty-player"
    }
  ]
}