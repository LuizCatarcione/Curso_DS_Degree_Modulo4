{
  "nbformat": 4,
  "nbformat_minor": 0,
  "metadata": {
    "kernelspec": {
      "display_name": "Python 3",
      "language": "python",
      "name": "python3"
    },
    "language_info": {
      "codemirror_mode": {
        "name": "ipython",
        "version": 3
      },
      "file_extension": ".py",
      "mimetype": "text/x-python",
      "name": "python",
      "nbconvert_exporter": "python",
      "pygments_lexer": "ipython3",
      "version": "3.8.3"
    },
    "colab": {
      "name": "Cópia de Lista 4 - listas e for.ipynb",
      "provenance": [],
      "collapsed_sections": []
    }
  },
  "cells": [
    {
      "cell_type": "markdown",
      "metadata": {
        "id": "2DuArSfFXuIR"
      },
      "source": [
        "# Lista 4 - listas e for"
      ]
    },
    {
      "cell_type": "markdown",
      "metadata": {
        "id": "mPFMyuy7XuIX"
      },
      "source": [
        "1.Crie uma lista qualquer e faça um programa que imprima cada elemento da lista usando o for."
      ]
    },
    {
      "cell_type": "code",
      "metadata": {
        "id": "7tw4DpVxXuIY",
        "colab": {
          "base_uri": "https://localhost:8080/"
        },
        "outputId": "d883f3c4-ffde-4d2c-8e38-fb30f7d1a3c0"
      },
      "source": [
        "lista = [1,2,3]\n",
        "#for i in range(len(lista)):\n",
        "for i in lista:\n",
        "  print(lista[i-1])\n"
      ],
      "execution_count": null,
      "outputs": [
        {
          "output_type": "stream",
          "name": "stdout",
          "text": [
            "1\n",
            "2\n",
            "3\n"
          ]
        }
      ]
    },
    {
      "cell_type": "markdown",
      "metadata": {
        "id": "O2RuEsURXuIZ"
      },
      "source": [
        "2.Faça um programa que imprima todos os itens de uma lista usando while e compare com o exercício 1. \n"
      ]
    },
    {
      "cell_type": "code",
      "metadata": {
        "id": "zeb9ZVcNXuIb",
        "colab": {
          "base_uri": "https://localhost:8080/"
        },
        "outputId": "bd1cbcfa-b8e3-4d08-bbfc-07c617bc514b"
      },
      "source": [
        "lista = [1,2,3]\n",
        "cont = 0\n",
        "while cont<len(lista):\n",
        "  print(lista[cont])\n",
        "  cont+=1"
      ],
      "execution_count": null,
      "outputs": [
        {
          "output_type": "stream",
          "name": "stdout",
          "text": [
            "1\n",
            "2\n",
            "3\n"
          ]
        }
      ]
    },
    {
      "cell_type": "markdown",
      "metadata": {
        "id": "zILI7q3-XuIb"
      },
      "source": [
        "\n",
        "3.Faça um programa que peça para o usuário digitar um número n e imprima uma lista com todos os números de 0 a n-1. Exemplo: se o usuário digitar 5, o programa deve imprimir [0, 1, 2, 3, 4] \n",
        "\n"
      ]
    },
    {
      "cell_type": "code",
      "metadata": {
        "id": "4pGDRRY-XuId",
        "colab": {
          "base_uri": "https://localhost:8080/"
        },
        "outputId": "ab5c9fd9-d0cf-4667-a863-c6c6f17c6edd"
      },
      "source": [
        "numero= int(input(\"Digite um numero: \"))\n",
        "#lista=[]\n",
        "#cont=0\n",
        "#while cont <= (numero-1):\n",
        "#  lista.append(cont)\n",
        "#  cont+=1\n",
        "list(range(numero))"
      ],
      "execution_count": null,
      "outputs": [
        {
          "name": "stdout",
          "output_type": "stream",
          "text": [
            "Digite um numero: 5\n"
          ]
        },
        {
          "output_type": "execute_result",
          "data": {
            "text/plain": [
              "[0, 1, 2, 3, 4]"
            ]
          },
          "metadata": {},
          "execution_count": 31
        }
      ]
    },
    {
      "cell_type": "markdown",
      "metadata": {
        "id": "ck1a0x2IXuIf"
      },
      "source": [
        "4.Faça um programa que olhe todos os itens de uma lista e diga quantos deles são pares. \n",
        "\n"
      ]
    },
    {
      "cell_type": "code",
      "metadata": {
        "id": "N-SSEAOfXuIg",
        "colab": {
          "base_uri": "https://localhost:8080/"
        },
        "outputId": "035a029c-e152-4a76-af59-5c486666aef8"
      },
      "source": [
        "lista = [10,21,3,43,50,6,-3,46,48,50]\n",
        "lista_par=[]\n",
        "#qpar = 0\n",
        "#for i in lista:\n",
        "#  if i%2==0:\n",
        "#    lista_par.append(i)\n",
        "#    qpar+=1\n",
        "lista_par = [elemento for elemento in lista if elemento%2==0]\n",
        "print(\"A quantidade de numeros pares é:\",len(lista_par))\n",
        "print(\"Os numeros pares são:\", sorted((lista_par)))\n"
      ],
      "execution_count": null,
      "outputs": [
        {
          "output_type": "stream",
          "name": "stdout",
          "text": [
            "A quantidade de numeros pares é: 6\n",
            "Os numeros pares são: [6, 10, 46, 48, 50, 50]\n"
          ]
        }
      ]
    },
    {
      "cell_type": "markdown",
      "metadata": {
        "id": "x_XVmfTaXuIh"
      },
      "source": [
        "5.Faça um programa que imprima o maior número de uma lista, sem usar o método max().\n"
      ]
    },
    {
      "cell_type": "code",
      "metadata": {
        "id": "pI8jYXq2XuIi",
        "colab": {
          "base_uri": "https://localhost:8080/"
        },
        "outputId": "ee225665-e21f-4186-ee75-dc729c1507fb"
      },
      "source": [
        "lista = [100,21,3,43,500,6,-3,46,48,50]\n",
        "ordem_lista = sorted(lista)\n",
        "print(\"O maior numero é \",ordem_lista[-1])\n"
      ],
      "execution_count": null,
      "outputs": [
        {
          "output_type": "stream",
          "name": "stdout",
          "text": [
            "O maior numero é  500\n"
          ]
        }
      ]
    },
    {
      "cell_type": "markdown",
      "metadata": {
        "id": "8Mp7F4YCXuIj"
      },
      "source": [
        "\n",
        "6.Agora usando o método max() faça um programa que imprima os três maiores números de uma lista.  Dica: Use o método próprio de listas .remove(). \n",
        "\n"
      ]
    },
    {
      "cell_type": "code",
      "metadata": {
        "id": "OnSYnU2dXuIk",
        "colab": {
          "base_uri": "https://localhost:8080/"
        },
        "outputId": "67cfb990-c4c0-482c-929b-a05f9ad2b3af"
      },
      "source": [
        "lista = [10,93,8,73,60,5,4,3,2,1]\n",
        "lista_ordenada = list(sorted(lista))\n",
        "maior=[]\n",
        "#tamanho=int(len(lista_ordenada)-3)\n",
        "for elemento in lista_ordenada[0:int(len(lista_ordenada)-3)]:\n",
        "  lista_ordenada.remove(elemento)\n",
        "print(\"Os três maiores numeros são: \",lista_ordenada)\n",
        "  \n",
        "  "
      ],
      "execution_count": null,
      "outputs": [
        {
          "output_type": "stream",
          "name": "stdout",
          "text": [
            "Os três maiores numeros são:  [60, 73, 93]\n"
          ]
        }
      ]
    },
    {
      "cell_type": "markdown",
      "metadata": {
        "id": "X4I7WQXJXuIk"
      },
      "source": [
        "7.Faça um programa que, dadas duas listas de mesmo tamanho, crie uma nova lista com cada elemento igual a soma dos elementos da lista 1 com os da lista 2, na mesma posição.  Exemplo: dadas lista1 = [1, 4, 5] e lista2 = [2, 2, 3], então lista3 = [1+2, 4+2, 5+3] = [3, 6, 8] \n",
        "\n"
      ]
    },
    {
      "cell_type": "code",
      "metadata": {
        "id": "ey7Rx7KdXuIl",
        "colab": {
          "base_uri": "https://localhost:8080/"
        },
        "outputId": "352a6e48-2ee5-48f4-80ca-c10a3b98ea41"
      },
      "source": [
        "lista1 = [1,2,3,4,5,6,7,8]\n",
        "lista2 = [4,5,6,78,9,10,7,9]\n",
        "soma=[]\n",
        "for i in range(len(lista1)):\n",
        "  #somainterna = int(lista1[i]+lista2[i])\n",
        "  #soma.append(somainterna)\n",
        "  soma.append(lista1[i]+lista2[i])  \n",
        "print(soma)  "
      ],
      "execution_count": null,
      "outputs": [
        {
          "output_type": "stream",
          "name": "stdout",
          "text": [
            "[5, 7, 9, 82, 14, 16, 14, 17]\n"
          ]
        }
      ]
    },
    {
      "cell_type": "markdown",
      "metadata": {
        "id": "nNSNKzlTXuIm"
      },
      "source": [
        "8.Faça  um  programa  que  dadas  duas  listas  de  mesmo  tamanho, imprima o produto escalar entre elas.  OBS: produto escalar é a soma do resultado da multiplicação entre o número na posição i da lista1 pelo número na posição i da lista2, com i variando de 0 ao tamanho da lista. \n"
      ]
    },
    {
      "cell_type": "code",
      "metadata": {
        "id": "ebauVD6-XuIn",
        "colab": {
          "base_uri": "https://localhost:8080/"
        },
        "outputId": "35f73475-5ae8-4127-99a9-3e155aa476f1"
      },
      "source": [
        "lista1 = [1,2,3,4,5,6,7,8]\n",
        "lista2 = [4,5,6,78,9,10,7,9]\n",
        "produto=[]\n",
        "for i in range(len(lista1)):\n",
        "  #produtointerno = int(lista1[i]*lista2[i])\n",
        "  #produto.append(somainterna)\n",
        "  produto.append(lista1[i]*lista2[i])  \n",
        "print(produto)  "
      ],
      "execution_count": null,
      "outputs": [
        {
          "output_type": "stream",
          "name": "stdout",
          "text": [
            "[4, 10, 18, 312, 45, 60, 49, 72]\n"
          ]
        }
      ]
    },
    {
      "cell_type": "markdown",
      "metadata": {
        "id": "mri3OLjiXuIn"
      },
      "source": [
        "\n",
        "9.Faça um programa que pede para o usuário digitar 5 números e, ao final, imprime uma lista com os 5 números digitados pelo usuário (sem converter os números para int ou float).  Exemplo: Se o usuário digitar 1, 5, 2, 3, 6, o programa deve imprimir a lista ['1','5','2','3','6']  \n"
      ]
    },
    {
      "cell_type": "code",
      "metadata": {
        "id": "srhQk_HVXuIo",
        "colab": {
          "base_uri": "https://localhost:8080/"
        },
        "outputId": "0b09c5d6-9f80-4d4b-b62e-dae0242bf59f"
      },
      "source": [
        "cont=0\n",
        "lista=[]\n",
        "while cont<5:\n",
        " num=str(input(\"Digite um numero: \"))\n",
        " lista.append(num)\n",
        " cont+=1\n",
        "print(lista)\n",
        "\n"
      ],
      "execution_count": null,
      "outputs": [
        {
          "output_type": "stream",
          "name": "stdout",
          "text": [
            "Digite um numero: 1\n",
            "Digite um numero: 2\n",
            "Digite um numero: 3\n",
            "Digite um numero: 4\n",
            "Digite um numero: 5\n",
            "['1', '2', '3', '4', '5']\n"
          ]
        }
      ]
    },
    {
      "cell_type": "markdown",
      "metadata": {
        "id": "StrLsB39XuIp"
      },
      "source": [
        "\n",
        "10.Pegue a lista gerada no exercício anterior e transforme cada um dos itens dessa lista em um float.  OBS: Não é para alterar o programa anterior, mas sim a lista gerada por ele. \n",
        "\n"
      ]
    },
    {
      "cell_type": "code",
      "metadata": {
        "id": "9KguYtFMXuIp",
        "colab": {
          "base_uri": "https://localhost:8080/"
        },
        "outputId": "66b82312-da04-4d53-d9d8-c141f4ddd53c"
      },
      "source": [
        "cont=0\n",
        "lista=[]\n",
        "while cont<5:\n",
        " num=float(input(\"Digite um numero: \"))\n",
        " lista.append(num)\n",
        " cont+=1\n",
        "print(lista)"
      ],
      "execution_count": null,
      "outputs": [
        {
          "output_type": "stream",
          "name": "stdout",
          "text": [
            "Digite um numero: 1\n",
            "Digite um numero: 2\n",
            "Digite um numero: 3\n",
            "Digite um numero: 4\n",
            "Digite um numero: 5\n",
            "[1.0, 2.0, 3.0, 4.0, 5.0]\n"
          ]
        }
      ]
    },
    {
      "cell_type": "markdown",
      "metadata": {
        "id": "dtMsakpbXuIq"
      },
      "source": [
        "11.Faça um Programa que peça as 4 notas bimestrais e mostre a média aritmética delas, usando listas.  \n",
        "\n"
      ]
    },
    {
      "cell_type": "code",
      "metadata": {
        "id": "RMuVCqQuXuIq",
        "colab": {
          "base_uri": "https://localhost:8080/"
        },
        "outputId": "31994a3a-fbbd-48d4-e302-11908b01b993"
      },
      "source": [
        "cont=0\n",
        "lista_nota=[]\n",
        "while cont<4:\n",
        " num=float(input(\"Digite uma nota: \"))\n",
        " lista_nota.append(num)\n",
        " cont+=1\n",
        "media=float(sum(lista_nota)/4)\n",
        "print(lista_nota)\n",
        "print(\"A média é:\",media)"
      ],
      "execution_count": null,
      "outputs": [
        {
          "output_type": "stream",
          "name": "stdout",
          "text": [
            "Digite uma nota: 6\n",
            "Digite uma nota: 8\n",
            "Digite uma nota: 10\n",
            "Digite uma nota: 8\n",
            "[6.0, 8.0, 10.0, 8.0]\n",
            "A média é: 8.0\n"
          ]
        }
      ]
    },
    {
      "cell_type": "markdown",
      "metadata": {
        "id": "fwscaRmSXuIq"
      },
      "source": [
        "12.Sorteie uma lista de 10 números e imprima: \n",
        "\n",
        "- a.uma lista com os 4 primeiros números; \n",
        "- b.uma lista com os 5 últimos números; \n",
        "- c.uma lista contendo apenas os elementos das posições pares; \n",
        "- d.uma lista contendo apenas os elementos das posições ímpares; \n",
        "- e.a lista inversa da lista sorteada (isto é, uma lista que começa com o último elemento da lista sorteada e termina com o primeiro); \n",
        "- f.uma lista inversa dos 5 primeiros números; \n",
        "- g.uma lista inversa dos 5 últimos números. \n",
        "\n"
      ]
    },
    {
      "cell_type": "code",
      "metadata": {
        "colab": {
          "base_uri": "https://localhost:8080/"
        },
        "id": "1JM3TpuFDF1m",
        "outputId": "31d7cd67-4a44-434c-820b-3136a800ab82"
      },
      "source": [
        "import random\n",
        "result = random.sample(range(0,100), 10)\n",
        "print(result)\n",
        "lista4 = print(result[0:4])\n",
        "lista5ult = print(result[-5:])\n",
        "listapar = print(result[::2])\n",
        "listaimpar = print(result[1::2])\n",
        "listaordenada = sorted(result)\n",
        "print(listaordenada)\n",
        "listainversa = listaordenada[::-1] \n",
        "print(listainversa)\n",
        "listainversa5 = print(listainversa[0:5])\n",
        "listainversa5u = print(listainversa[-5:])\n",
        "\n",
        "\n"
      ],
      "execution_count": 25,
      "outputs": [
        {
          "output_type": "stream",
          "name": "stdout",
          "text": [
            "[5, 66, 27, 13, 4, 36, 29, 12, 42, 61]\n",
            "[5, 66, 27, 13]\n",
            "[36, 29, 12, 42, 61]\n",
            "[5, 27, 4, 29, 42]\n",
            "[66, 13, 36, 12, 61]\n",
            "[4, 5, 12, 13, 27, 29, 36, 42, 61, 66]\n",
            "[66, 61, 42, 36, 29, 27, 13, 12, 5, 4]\n",
            "[66, 61, 42, 36, 29]\n",
            "[27, 13, 12, 5, 4]\n"
          ]
        }
      ]
    },
    {
      "cell_type": "markdown",
      "metadata": {
        "id": "4Oa_IA6XXuIr"
      },
      "source": [
        "13.Faça  um programa que sorteia 10 números entre 0 e 100 e conte quantos números sorteados são maiores que 50. \n"
      ]
    },
    {
      "cell_type": "code",
      "metadata": {
        "id": "kRgQV62vXuIr",
        "colab": {
          "base_uri": "https://localhost:8080/"
        },
        "outputId": "b3083292-5171-4427-dfd2-c0b048e81e91"
      },
      "source": [
        "import random\n",
        "result = random.sample(range(0,100), 10)\n",
        "maior50=[]\n",
        "quan = 0\n",
        "for i in result:\n",
        "  if i > 50:\n",
        "    maior50.append(i)\n",
        "    quan+=1 \n",
        "else:\n",
        "  print(\"A lista é: \",result)\n",
        "  print(\"Sâo\",quan,\"numeros maiores que 50\")    "
      ],
      "execution_count": 54,
      "outputs": [
        {
          "output_type": "stream",
          "name": "stdout",
          "text": [
            "A lista é:  [44, 16, 73, 11, 27, 43, 34, 94, 32, 88]\n",
            "Sâo 3 numeros maiores que 50\n"
          ]
        }
      ]
    },
    {
      "cell_type": "markdown",
      "metadata": {
        "id": "XYa_qBQPXuIr"
      },
      "source": [
        "\n",
        "14.Faça um programa que sorteie 10 números entre 0 e 100 e imprima: \n",
        "\n",
        "- a.o maior número sorteado;\n",
        "- b.o menor número sorteado; \n",
        "- c.a média dos números sorteados; \n",
        "- d.a soma dos números sorteados."
      ]
    },
    {
      "cell_type": "code",
      "metadata": {
        "id": "c_8wkqW4XuIs",
        "colab": {
          "base_uri": "https://localhost:8080/"
        },
        "outputId": "829e0ab3-c674-44fc-9360-7c6aeeb2951d"
      },
      "source": [
        "import random\n",
        "result = random.sample(range(0,100),10)\n",
        "print(result)\n",
        "print(sorted(result))\n",
        "print(max(result))\n",
        "print(min(result))\n",
        "#media = sum(result)/len(result)\n",
        "print(sum(result)/len(result))\n",
        "print(sum(result))\n"
      ],
      "execution_count": 20,
      "outputs": [
        {
          "output_type": "stream",
          "name": "stdout",
          "text": [
            "[23, 6, 1, 86, 56, 16, 59, 50, 41, 25]\n",
            "[1, 6, 16, 23, 25, 41, 50, 56, 59, 86]\n",
            "86\n",
            "1\n",
            "36.3\n",
            "363\n"
          ]
        }
      ]
    },
    {
      "cell_type": "markdown",
      "metadata": {
        "id": "EQLGrb4CXuIs"
      },
      "source": [
        "_____\n",
        "____\n",
        "_____\n",
        "____"
      ]
    },
    {
      "cell_type": "markdown",
      "metadata": {
        "id": "XN7XExggXuIs"
      },
      "source": [
        "# DESAFIOS"
      ]
    },
    {
      "cell_type": "markdown",
      "metadata": {
        "id": "IY2_WoZbXuIt"
      },
      "source": [
        "1.Faça um programa que peça para o usuário digitar o nome e a idade de um aluno e o número de provas que esse aluno fez. Depois, o programa deve pedir para o usuário digitar as notas de cada prova do aluno. Ao final o programa deve imprimir uma lista contendo: \n",
        "\n",
        "- a.Nome do aluno na posição 0 \n",
        "- b.Idade do aluno na posição 1 \n",
        "- c.Uma lista com todas as notas na posição 2  \n",
        "- d.A média do aluno na posição 3 \n",
        "- e.True ou False, caso a média seja maior que 5 ou não, na posição 4\n",
        "\n",
        "Dica: Use o que você fez nos exercícios anteriores para criar esse programa. "
      ]
    },
    {
      "cell_type": "code",
      "metadata": {
        "id": "kqC-PC7gXuIu"
      },
      "source": [
        ""
      ],
      "execution_count": 20,
      "outputs": []
    },
    {
      "cell_type": "markdown",
      "metadata": {
        "id": "gKJNhOhSXuIu"
      },
      "source": [
        "\n",
        "2.Faça um programa como o do item anterior, porém que imprima a média sem considerar a maior e menor nota do aluno (nesse caso o número de provas precisa ser obrigatoriamente maior que dois).  Dica: crie uma cópia com a lista de todas as notas antes de fazer a média. \n",
        "\n"
      ]
    },
    {
      "cell_type": "code",
      "metadata": {
        "id": "p1FX7v12XuIv"
      },
      "source": [
        ""
      ],
      "execution_count": 20,
      "outputs": []
    },
    {
      "cell_type": "markdown",
      "metadata": {
        "id": "hzayhsHyXuIv"
      },
      "source": [
        "\n",
        "3.Faça um programa que pede para o usuário digitar o CPF e verifica se ele é válido. Para isso, primeiramente o programa deve multiplicar cada um dos 9 primeiros dígitos do CPF pelos números de 10 a 2 e somar todas as respostas. O resultado deve ser multiplicado por 10 e dividido por 11. O resto dessa divisão deve ser igual ao primeiro dígito verificador (10º dígito). Em seguida, o programa deve multiplicar cada \n",
        "um dos 10 primeiros dígitos do CPF pelos números de 11 a 2 e repetir o procedimento anterior para verificar o segundo dígito verificador. \n",
        "\n",
        "Exemplo:Se o CPF for 286.255.878-87 o programa deve fazer primeiro:\n",
        "\n",
        "- x = (2\\*10 + 8\\*9 + 6\\*8 + 2\\*7 + 5\\*6 + 5\\*5 + 8\\*4 + 7\\*3 + 8\\*2).  \n",
        "\n",
        "Em seguida o programa deve testar se x\\*10%11 == 8 (o décimo número do CPF).  \n",
        "\n",
        "Se sim, o programa deve calcular  \n",
        "\n",
        "- x = (2\\*11 + 8\\*10 + 6\\*9 + 2\\*8 + 5\\*7 + 5\\*6 + 8\\*5 + 7\\*4 + 8\\*3 + 8\\*2)\n",
        "\n",
        "e verificar se x\\*10%11 == 7 (o décimo primeiro número do CPF)\n",
        "\n",
        "**Observação Importante: Se o resto da divisão for igual a 10, nós o consideramos como 0**"
      ]
    },
    {
      "cell_type": "code",
      "metadata": {
        "id": "s6bO-pX_XuIw"
      },
      "source": [
        ""
      ],
      "execution_count": 20,
      "outputs": []
    },
    {
      "cell_type": "markdown",
      "metadata": {
        "id": "yh1zx9_7XuIw"
      },
      "source": [
        "__ELABORAÇÃO: como resolver esse exercício sabendo de strings?__"
      ]
    },
    {
      "cell_type": "code",
      "metadata": {
        "id": "tx4grWS2XuIw"
      },
      "source": [
        ""
      ],
      "execution_count": 20,
      "outputs": []
    }
  ]
}