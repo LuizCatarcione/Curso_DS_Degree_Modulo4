{
  "nbformat": 4,
  "nbformat_minor": 0,
  "metadata": {
    "kernelspec": {
      "display_name": "Python 3",
      "language": "python",
      "name": "python3"
    },
    "language_info": {
      "codemirror_mode": {
        "name": "ipython",
        "version": 3
      },
      "file_extension": ".py",
      "mimetype": "text/x-python",
      "name": "python",
      "nbconvert_exporter": "python",
      "pygments_lexer": "ipython3",
      "version": "3.8.3"
    },
    "colab": {
      "name": "Lista 6 - tuplas e dicionários.ipynb",
      "provenance": []
    }
  },
  "cells": [
    {
      "cell_type": "markdown",
      "metadata": {
        "id": "ymKFYaKhHQMu"
      },
      "source": [
        "# Lista 6 - tuplas e dicionários"
      ]
    },
    {
      "cell_type": "markdown",
      "metadata": {
        "id": "9Atkb1FnHQM1"
      },
      "source": [
        "## Tuplas"
      ]
    },
    {
      "cell_type": "markdown",
      "metadata": {
        "id": "fiBluBrLHQM3"
      },
      "source": [
        "1. Crie uma tupla com todos os números de 0 a 9. Explore a sintaxe: use e depois não use parênteses.\n"
      ]
    },
    {
      "cell_type": "code",
      "metadata": {
        "id": "Yf6nkiJeHQM4"
      },
      "source": [
        "tupla = 1,2,3,4\n",
        "print(tupla)\n",
        "\n"
      ],
      "execution_count": null,
      "outputs": []
    },
    {
      "cell_type": "markdown",
      "metadata": {
        "id": "EsMoBV84HQM6"
      },
      "source": [
        "2. Crie uma tupla com todos os pares entre 0 e 100 (inclusive).\n"
      ]
    },
    {
      "cell_type": "code",
      "metadata": {
        "id": "gaGZDpkpHQM6"
      },
      "source": [
        ""
      ],
      "execution_count": null,
      "outputs": []
    },
    {
      "cell_type": "markdown",
      "metadata": {
        "id": "x3xjXn9VHQM8"
      },
      "source": [
        "3. Crie uma função que recebe uma lista de números e devolve, nesta ordem, o mínimo, a média, o desvio padrão e o máximo.\n"
      ]
    },
    {
      "cell_type": "code",
      "metadata": {
        "id": "EwwwkNG_HQM_"
      },
      "source": [
        ""
      ],
      "execution_count": null,
      "outputs": []
    },
    {
      "cell_type": "markdown",
      "metadata": {
        "id": "5GOkvEkFHQNA"
      },
      "source": [
        "4. Crie uma função que recebe uma lista e retorna True se todos os seus elementos forem numéricos (int, float ou string contendo um int ou float) ou False do contrário. A função deve também retornar a lista tratada: transformar todas as entradas não numéricas em numéricas ou, no melhor caso, devolver a lista apenas.\n"
      ]
    },
    {
      "cell_type": "code",
      "metadata": {
        "id": "BpOmh62ZHQNC"
      },
      "source": [
        ""
      ],
      "execution_count": null,
      "outputs": []
    },
    {
      "cell_type": "markdown",
      "metadata": {
        "id": "rtkA8_RNHQNJ"
      },
      "source": [
        "5. Faça uma função que recebe valores a, b e c, resolve a equação quadrática ax^2+ bx + c = 0 e retorna:\n",
        "\n",
        "a. o valor de Δ onde Δ=b^2- 4ac;\n",
        "\n",
        "b. uma tupla com o valor do ponto de mínimo ou máximo, onde, x_m=-b/2a e y_m  = -Δ/4a;\n",
        "\n",
        "c. uma lista contendo as raízes (a lista pode ser vazia, caso Δ<0;  pode conter apenas um elemento, caso Δ = 0; ou conter duas raízes, caso Δ> 0).\n"
      ]
    },
    {
      "cell_type": "code",
      "metadata": {
        "id": "WS0o4C1MHQNK"
      },
      "source": [
        ""
      ],
      "execution_count": null,
      "outputs": []
    },
    {
      "cell_type": "markdown",
      "metadata": {
        "id": "VMV8hV2uHQNL"
      },
      "source": [
        "## Dicionários"
      ]
    },
    {
      "cell_type": "markdown",
      "metadata": {
        "id": "e_7rLLJkHQNM"
      },
      "source": [
        "1. Crie um dicionário cujas chaves são os meses do ano e os valores são a duração (em dias) de cada mês.\n"
      ]
    },
    {
      "cell_type": "code",
      "metadata": {
        "id": "V-YxH17nHQNN"
      },
      "source": [
        ""
      ],
      "execution_count": null,
      "outputs": []
    },
    {
      "cell_type": "markdown",
      "metadata": {
        "id": "zjMmNuIFHQNO"
      },
      "source": [
        " 2. Imprima as chaves seguidas dos seus valores para o dicionário criado no exercício 1. "
      ]
    },
    {
      "cell_type": "code",
      "metadata": {
        "id": "QtYgwzDFHQNP"
      },
      "source": [
        ""
      ],
      "execution_count": null,
      "outputs": []
    },
    {
      "cell_type": "markdown",
      "metadata": {
        "id": "b-D0Wn6oHQNR"
      },
      "source": [
        "3. Crie um dicionário para as seguintes relações:\n",
        "\n",
        "‘Banana’: 3.0\n",
        "\n",
        "‘Cebola’: 4.0\n",
        "\n",
        "‘Maçã’: 5.7\n",
        "\n",
        "‘Abacaxi’: 8.0"
      ]
    },
    {
      "cell_type": "code",
      "metadata": {
        "id": "n1HDFT8sHQNS"
      },
      "source": [
        ""
      ],
      "execution_count": null,
      "outputs": []
    },
    {
      "cell_type": "markdown",
      "metadata": {
        "id": "sTssHslNHQNT"
      },
      "source": [
        " 4. Altere o valor da chave ‘Maçã’ no dicionário do exercício anterior para 8.6.\n"
      ]
    },
    {
      "cell_type": "code",
      "metadata": {
        "id": "x4sHILOHHQNT"
      },
      "source": [
        ""
      ],
      "execution_count": null,
      "outputs": []
    },
    {
      "cell_type": "markdown",
      "metadata": {
        "id": "4WvNK0xQHQNU"
      },
      "source": [
        "5. Crie uma função que receba os valores do nome, idade e e-mail de uma pessoa e guarde-os em um dicionário com as chaves ‘nome’, ‘idade’ e ‘email’, respectivamente. Sua função deve retornar esse dicionário.\n"
      ]
    },
    {
      "cell_type": "code",
      "metadata": {
        "id": "_sdpZjYBHQNU"
      },
      "source": [
        ""
      ],
      "execution_count": null,
      "outputs": []
    },
    {
      "cell_type": "markdown",
      "metadata": {
        "id": "bmW_kQEDHQNU"
      },
      "source": [
        " 6. Como você armazenaria a seguinte tabela usando apenas dicionários? Tente imprimir o valor correspondente da linha Pedro x Coluna B.\n"
      ]
    },
    {
      "cell_type": "code",
      "metadata": {
        "id": "oxYxJqB1HQNV"
      },
      "source": [
        ""
      ],
      "execution_count": null,
      "outputs": []
    },
    {
      "cell_type": "markdown",
      "metadata": {
        "id": "B1aKZC3SHQNV"
      },
      "source": [
        "7. Faça uma função que receba uma lista e conte quantas vezes cada elemento apareceu nessa lista. Essa função deverá guardar os dados em um dicionário no qual as chaves são os elementos da lista e os valores são a contagem de quantas vezes esse elemento aparece.\n"
      ]
    },
    {
      "cell_type": "code",
      "metadata": {
        "id": "qauJdsi7HQNV"
      },
      "source": [
        ""
      ],
      "execution_count": null,
      "outputs": []
    },
    {
      "cell_type": "markdown",
      "metadata": {
        "id": "pt5W3gXsHQNV"
      },
      "source": [
        " 8. Faça um programa que fique pedindo uma resposta do usuário, entre 1, 2 e 3. Se o usuário digitar 1, o programa deve cadastrar um novo usuário nos moldes do exercício 5 e guardar esse cadastro num dicionário cuja chave será o CPF da pessoa. Quando o usuário digitar 2, o programa deve imprimir os usuários cadastrados; e se o usuário digitar 3, o programa deve fechar.\n",
        "\n",
        "9. Implemente um sistema de busca para o programa do exercício 7, isso é, se o usuário digitar 4, procure um determinado usuário pelo seu CPF.\n"
      ]
    },
    {
      "cell_type": "code",
      "metadata": {
        "id": "9Rn73iriHQNW"
      },
      "source": [
        ""
      ],
      "execution_count": null,
      "outputs": []
    },
    {
      "cell_type": "markdown",
      "metadata": {
        "id": "GXCNdBDKHQNX"
      },
      "source": [
        " 10. Faça o análogo do exercício 6 para strings: conte quantas vezes cada caracter apareceu nessa string e retorne um dicionário com essa contagem.\n"
      ]
    },
    {
      "cell_type": "code",
      "metadata": {
        "id": "mn_HlE5OHQNX"
      },
      "source": [
        ""
      ],
      "execution_count": null,
      "outputs": []
    }
  ]
}